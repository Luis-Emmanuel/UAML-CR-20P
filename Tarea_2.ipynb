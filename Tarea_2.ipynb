{
 "cells": [
  {
   "cell_type": "markdown",
   "metadata": {},
   "source": [
    "Funcion densidad: -Para facilitarnos el calculo de los enlaces presentes creamos una lista con todos los enlaces individuales de la red. -Posteriormente asignamos a la variable mg el numero de enlaces presentes en la red por medio de el pequeño cualculo de el tamaño de la lista dividido por dos. -Asignamos a mkn el valor de numero maximos que puede tener nuestra red por medio de la formula m = (n*(n-1))/2. -Finalmente calculamos la densidad dividiendo mg/mkn."
   ]
  },
  {
   "cell_type": "code",
   "execution_count": 24,
   "metadata": {},
   "outputs": [],
   "source": [
    "def densidad(red):\n",
    "    enlaces = list()\n",
    "    i = 0 \n",
    "    contador = 0\n",
    "    \n",
    "    valores = list(red.values())\n",
    "    \n",
    "    for cont in valores:\n",
    "        lst_temp = list(cont)\n",
    "        i = i+1\n",
    "        for cont2 in lst_temp:\n",
    "            enlaces.append([i,cont2])\n",
    "    \n",
    "    mg = len(enlaces)/2\n",
    "    mkn = (len(red)*(len(red)-1))/2\n",
    "   \n",
    "    densidad = mg/mkn\n",
    "    \n",
    "    print('La densidad de la red es: ',densidad)"
   ]
  },
  {
   "cell_type": "code",
   "execution_count": 52,
   "metadata": {},
   "outputs": [],
   "source": [
    "def grafica_aleatoria(n,p):\n",
    "    import random\n",
    "    i = 1 #contador\n",
    "    j = 1 #contador\n",
    "    enlaces_ran = list() #definimos una lista que tendra los enlaces formados\n",
    "\n",
    "    while i <= n: #bucle while que se encargara de ir realizando los enlaces\n",
    "        lst_temp = list([i,j]) #definimos una lista temporal con los valores de i y j como candidatos a un enlace\n",
    "        a = random.uniform(0,1) #definimos un random de numeros de entre 0 y 1\n",
    "    \n",
    "        if(i == j): #hacemos este if para evitar enlaces del tipo [1,1], [2,2], etc.\n",
    "            j = j+1 #si eso pasa a j se le aumenta el valor en uno\n",
    "        else: #de no ser asi\n",
    "            if (a < p): #vemos si es posible el enlace revisando que a sea menor que p\n",
    "                enlaces_ran.append(lst_temp) #de ser asi se agrega el par de nodos a la lista de enlaces\n",
    "                j = 1+j #se aumenta el valor de j en uno por ejemplo si se forma el enlace [1,2] ahora veremos si se forma [1,3]\n",
    "            else:\n",
    "                j = 1+j #de no formarse el enlace aumentamos en uno a j\n",
    "        if j==n: #cuando j alcance el valor maximo de nodos, ejemplo el usuario designo 5 nodos, j al alcanzar dicho valor\n",
    "            j = 1 #retomara el valor de 1\n",
    "            i = i+1 #y el valor de i aumentara en 1, asi hasta que i tenga el valor de los nodos dados por el usuario y terminar el bucle.\n",
    "    \n",
    "    mundo = {}\n",
    "    i = 0\n",
    "    j = 1\n",
    "    cont = 0\n",
    "    temp = set()\n",
    "\n",
    "    for valor in enlaces_ran:\n",
    "        if valor[i] == cont:\n",
    "            temp.add(valor[j])\n",
    "        else:\n",
    "            cont = cont+1\n",
    "            temp = set()\n",
    "            temp.add(valor[j])\n",
    "            \n",
    "        temp2 = list(temp)\n",
    "        up = {cont:temp2}\n",
    "        mundo.update(up)\n",
    "    print(mundo)\n",
    "    return(mundo)"
   ]
  },
  {
   "cell_type": "code",
   "execution_count": 53,
   "metadata": {},
   "outputs": [
    {
     "name": "stdout",
     "output_type": "stream",
     "text": [
      "Numero de nodos: 10\n",
      "Ingresa una probabilidad de enlace: 1\n",
      "{1: [2, 3, 4, 5, 6, 7, 8, 9], 2: [1, 3, 4, 5, 6, 7, 8, 9], 3: [1, 2, 4, 5, 6, 7, 8, 9], 4: [1, 2, 3, 5, 6, 7, 8, 9], 5: [1, 2, 3, 4, 6, 7, 8, 9], 6: [1, 2, 3, 4, 5, 7, 8, 9], 7: [1, 2, 3, 4, 5, 6, 8, 9], 8: [1, 2, 3, 4, 5, 6, 7, 9], 9: [1, 2, 3, 4, 5, 6, 7, 8], 10: [1, 2, 3, 4, 5, 6, 7, 8, 9]}\n",
      "La densidad de la red es:  0.9\n"
     ]
    }
   ],
   "source": [
    "n = int(input('Numero de nodos: ')) #ingresamos el numero de nodos\n",
    "p = float(input('Ingresa una probabilidad de enlace: ')) #ingresamos la probabilidad de enlace\n",
    "\n",
    "red = grafica_aleatoria(n,p)\n",
    "densidad(red)"
   ]
  },
  {
   "cell_type": "code",
   "execution_count": null,
   "metadata": {},
   "outputs": [],
   "source": []
  }
 ],
 "metadata": {
  "kernelspec": {
   "display_name": "Python 3",
   "language": "python",
   "name": "python3"
  },
  "language_info": {
   "codemirror_mode": {
    "name": "ipython",
    "version": 3
   },
   "file_extension": ".py",
   "mimetype": "text/x-python",
   "name": "python",
   "nbconvert_exporter": "python",
   "pygments_lexer": "ipython3",
   "version": "3.8.3"
  }
 },
 "nbformat": 4,
 "nbformat_minor": 4
}
