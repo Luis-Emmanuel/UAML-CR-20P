{
 "cells": [
  {
   "cell_type": "code",
   "execution_count": 5,
   "metadata": {},
   "outputs": [],
   "source": [
    "def numero_nodos(red):\n",
    "    print('NUMERO DE NODOS DE LA RED:')\n",
    "    print(len(red))"
   ]
  },
  {
   "cell_type": "code",
   "execution_count": 6,
   "metadata": {},
   "outputs": [],
   "source": [
    "def calcula_grados(red):\n",
    "    lista2 = list() \n",
    "    print('GRADOS DE LA RED:')\n",
    "    for i in red:\n",
    "        print('Grado nodal del nodo', i, 'es:', len(red[i]))\n",
    "        lista2.append(len(red[i]))\n",
    "    return(lista2)"
   ]
  },
  {
   "cell_type": "code",
   "execution_count": 7,
   "metadata": {},
   "outputs": [],
   "source": [
    "def grado_maximo(lista):\n",
    "    print('GRADO MAXIMO DE LA RED:')\n",
    "    print(max(lista))"
   ]
  },
  {
   "cell_type": "code",
   "execution_count": 8,
   "metadata": {},
   "outputs": [
    {
     "name": "stdout",
     "output_type": "stream",
     "text": [
      "NUMERO DE NODOS DE LA RED:\n",
      "10\n",
      "\n",
      "\n",
      "GRADOS DE LA RED:\n",
      "Grado nodal del nodo alicia es: 5\n",
      "Grado nodal del nodo beto es: 2\n",
      "Grado nodal del nodo carlos es: 3\n",
      "Grado nodal del nodo carmen es: 2\n",
      "Grado nodal del nodo david es: 2\n",
      "Grado nodal del nodo enrique es: 3\n",
      "Grado nodal del nodo irene es: 2\n",
      "Grado nodal del nodo jorge es: 3\n",
      "Grado nodal del nodo monica es: 2\n",
      "Grado nodal del nodo rosa es: 3\n",
      "\n",
      "\n",
      "GRADO MAXIMO DE LA RED:\n",
      "5\n"
     ]
    }
   ],
   "source": [
    "red = {'alicia':['monica','carmen','david','carlos','beto'], 'beto':['alicia','jorge'], 'carlos':['alicia','david','monica'], \n",
    "       'carmen':['alicia','monica'], 'david':['alicia','carlos'], 'enrique':['irene','jorge','rosa'],\n",
    "       'irene':['rosa','enrique'], 'jorge':['beto','enrique','rosa'], 'monica':['alicia','carmen'],\n",
    "       'rosa':['enrique','irene','jorge']}\n",
    "\n",
    "numero_nodos(red)\n",
    "print('\\n')\n",
    "lista = list(calcula_grados(red))\n",
    "print('\\n')\n",
    "grado_maximo(lista)"
   ]
  },
  {
   "cell_type": "code",
   "execution_count": null,
   "metadata": {},
   "outputs": [],
   "source": []
  }
 ],
 "metadata": {
  "kernelspec": {
   "display_name": "Python 3",
   "language": "python",
   "name": "python3"
  },
  "language_info": {
   "codemirror_mode": {
    "name": "ipython",
    "version": 3
   },
   "file_extension": ".py",
   "mimetype": "text/x-python",
   "name": "python",
   "nbconvert_exporter": "python",
   "pygments_lexer": "ipython3",
   "version": "3.8.3"
  }
 },
 "nbformat": 4,
 "nbformat_minor": 4
}
