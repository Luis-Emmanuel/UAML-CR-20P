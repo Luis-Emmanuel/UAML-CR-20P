{
 "cells": [
  {
   "cell_type": "markdown",
   "metadata": {},
   "source": [
    "Funcion crea red aleatoria"
   ]
  },
  {
   "cell_type": "code",
   "execution_count": 140,
   "metadata": {},
   "outputs": [],
   "source": [
    "def dibuja_erdos():\n",
    "    G = nx.erdos_renyi_graph(1000,0.06)\n",
    "    #nx.draw(G, with_labels = True)\n",
    "    #plt.figure(figsize = (5,5))\n",
    "    #plt.show()\n",
    "    return(G)"
   ]
  },
  {
   "cell_type": "markdown",
   "metadata": {},
   "source": [
    "Funcion crea red de escala libre"
   ]
  },
  {
   "cell_type": "code",
   "execution_count": 141,
   "metadata": {},
   "outputs": [],
   "source": [
    "def dibuja_escalaL():\n",
    "    G=nx.barabasi_albert_graph(n=1000, m=14)\n",
    "    #nx.draw(G, with_labels = True)\n",
    "    #plt.figure(figsize = (5,5))\n",
    "    #plt.show()\n",
    "    return(G)"
   ]
  },
  {
   "cell_type": "markdown",
   "metadata": {},
   "source": [
    "Funcion error para las redes"
   ]
  },
  {
   "cell_type": "code",
   "execution_count": 131,
   "metadata": {},
   "outputs": [],
   "source": [
    "def error(G,n,n_i):\n",
    "    cont = 0\n",
    "    prop_gigante = list() #lista que almacenara las proporciones del componente gigante\n",
    "    listerr = list() #lista que almacenara los nodos eleminados de la funcion error\n",
    "    listcomp = list() #lista que almacenara los componentes conectados que se formen a lo largo de la funcion error\n",
    "    \n",
    "    while cont<n:\n",
    "        nodo_error = rd.choice(list(G.nodes)) #nodo_error almacenara el nodo a eliminar en base a una seleccion con random\n",
    "        G.remove_node(nodo_error) #removemos el nodo\n",
    "        listerr.append(nodo_error) #agregamos el nodo eliminado a una lista\n",
    "        comp = nx.number_connected_components(G) #comp almacenara la cantidad de componentes presentes en la red\n",
    "        listcomp.append(comp) #se agregara el valor de comp a la lista de componentes\n",
    "        prop_gigante.append(componente_gigante(G,comp,n_i)) #mandamos la red y la lista de componentes de la red a la funcion\n",
    "        cont = cont+1\n",
    "        \n",
    "    return(listcomp,listerr,prop_gigante)\n",
    "\n",
    "    #nx.draw(G, with_labels = True)\n",
    "    #plt.figure(figsize = (5,5))\n",
    "    #plt.show() #mostramos la red resultante\n",
    "    #print('nodos eliminados:',listerr)\n",
    "    #print('componentes:',listcomp)\n",
    "    #print(\"proporcion:\",prop_gigante)"
   ]
  },
  {
   "cell_type": "markdown",
   "metadata": {},
   "source": [
    "Funcion para el ataque de las redes"
   ]
  },
  {
   "cell_type": "code",
   "execution_count": 150,
   "metadata": {},
   "outputs": [],
   "source": [
    "def ataque(G,n,n_i):\n",
    "    grados = list(sorted(G.degree, key=lambda x: x[1], reverse=True)) \n",
    "    #esta linea es especial, principalmente se calculara el grado de cada nodo, pero a demas se ordenaran de mayor a menor y\n",
    "    #seran colocados en una lista llamada grados.\n",
    "    prop_gigante2 = list() #lista que almacenara las proporciones del componente gigante\n",
    "    listata = list() #lista que almacenara los nodos eliminados de la funcion ataque\n",
    "    listcomp = list() #lista que almacenara los componentes conectados que se formen a lo largo de la funcion ataque\n",
    "\n",
    "    for i in range(0,n):\n",
    "        nodo_ataque = grados[i][0] #como agregamos a una lista los nodos y sus grados podemos ir almacenandolos de esta manera\n",
    "        G.remove_node(nodo_ataque) #removemos el nodo\n",
    "        listata.append(nodo_ataque) #agregamos el nodo eliminado a una lista\n",
    "        comp =  nx.number_connected_components(G) #comp almacenara la cantidad de componentes presentes en la red\n",
    "        listcomp.append(comp) #se agrega el valor de comp a la lista de componentes\n",
    "        prop_gigante2.append(componente_gigante(G,comp,n_i)) #mandamos la red y la lista de componentes de la red a la funcion\n",
    "    \n",
    "    return(listcomp,listata,prop_gigante2)\n",
    "\n",
    "    #nx.draw(G, with_labels = True)\n",
    "    #plt.show()\n",
    "    #print(listata)\n",
    "    #print(listcomp)\n",
    "    #print(\"proporcion:\",prop_gigante)"
   ]
  },
  {
   "cell_type": "markdown",
   "metadata": {},
   "source": [
    "Funcion ocupada tanto para ataque como para error para la obtencion de la proporcion del componente gigante"
   ]
  },
  {
   "cell_type": "code",
   "execution_count": 133,
   "metadata": {},
   "outputs": [],
   "source": [
    "def componente_gigante(red,comp,n_i):\n",
    "    \n",
    "    nodo_compo = rd.choice(list(red.nodes)) #tomara un nodo random de entre la red presente\n",
    "    nodos_compo = nx.node_connected_component(red,nodo_compo) #obtendremos los componentes de la red de dicho nodo\n",
    "    mayor = len(nodos_compo) \n",
    "    proporcion = mayor/n_i #calculamos la proporcion\n",
    "     \n",
    "    return(proporcion)"
   ]
  },
  {
   "cell_type": "markdown",
   "metadata": {},
   "source": [
    "Funcion para crear las graficas"
   ]
  },
  {
   "cell_type": "code",
   "execution_count": 134,
   "metadata": {},
   "outputs": [],
   "source": [
    "def graficas(titulo,f1_valores, f2_valores, f3_valores, f4_valores, ejex,f1_leyenda, f2_leyenda ,ejex_etiqueta, ejey_etiqueta):\n",
    "    plt.title(titulo)\n",
    "    if ejex == None:\n",
    "        plt.plot(f1_valores, label=f1_leyenda)  \n",
    "        plt.plot(f2_valores, label=f2_leyenda)\n",
    "        plt.plot(f3_valores, label=f1_leyenda)\n",
    "        plt.plot(f4_valores, label=f2_leyenda)\n",
    "    else:\n",
    "        plt.plot(ejex,f1_valores, label=f1_leyenda)  \n",
    "        plt.plot(ejex,f2_valores, label=f2_leyenda)\n",
    "        plt.plot(ejex,f3_valores, label=f1_leyenda)\n",
    "        plt.plot(ejex,f4_valores, label=f2_leyenda)\n",
    "    plt.xlabel(ejex_etiqueta)\n",
    "    plt.ylabel(ejey_etiqueta)\n",
    "    plt.legend()"
   ]
  },
  {
   "cell_type": "markdown",
   "metadata": {},
   "source": [
    "Main principal para probar todo lo anterior"
   ]
  },
  {
   "cell_type": "code",
   "execution_count": 152,
   "metadata": {},
   "outputs": [
    {
     "name": "stdout",
     "output_type": "stream",
     "text": [
      "Ingresa la cantidad de errores y ataques a simular:999\n"
     ]
    }
   ],
   "source": [
    "%matplotlib notebook\n",
    "import networkx as nx\n",
    "import matplotlib.pyplot as plt\n",
    "import random as rd\n",
    "\n",
    "#Variables\n",
    "nodos_iniciales = 1000 #cantidad de nodos con los cuales seran creadas las redes, en las funciones sera \"n_i\"\n",
    "\n",
    "#Ingreso de datos por teclado\n",
    "e = int(input('Ingresa la cantidad de errores y ataques a simular:')) #n guardara el numero de veces \n",
    "#que queremos ejectuar la funcion error\n",
    "\n",
    "#Creación de redes\n",
    "red = dibuja_erdos()\n",
    "red2 = dibuja_escalaL()\n",
    "\n",
    "#Errores\n",
    "err1,comperr1,prop1 = error(red,e,nodos_iniciales)\n",
    "err2,comperr2,prop2 = error(red2,e,nodos_iniciales)"
   ]
  },
  {
   "cell_type": "code",
   "execution_count": 157,
   "metadata": {},
   "outputs": [],
   "source": [
    "#Graficas\n",
    "#graficas('Componentes_Conectados-Errores',comperr1,err1, comperr2,err2,None,\"Aleatoria\",\"Escala Libre\",\"Errores\",\"Componentes conectados\")"
   ]
  },
  {
   "cell_type": "code",
   "execution_count": 123,
   "metadata": {},
   "outputs": [],
   "source": [
    "#graficas('Proporcion Componente Gigante-Errores',prop1,err1,prop2,err2,None,\"Aleatoria\",\"Escala Libre\",\"Errores\",\"Proporcion\")"
   ]
  },
  {
   "cell_type": "code",
   "execution_count": 155,
   "metadata": {},
   "outputs": [],
   "source": [
    "#Creación de redes\n",
    "red = dibuja_erdos()\n",
    "red2 = dibuja_escalaL()\n",
    "\n",
    "#Ataques\n",
    "ata1,compata1,propata1 = ataque(red,a,nodos_iniciales)\n",
    "ata2,compata2,propata2 = ataque(red2,a,nodos_iniciales)"
   ]
  },
  {
   "cell_type": "code",
   "execution_count": 156,
   "metadata": {},
   "outputs": [],
   "source": [
    "#graficas('Componentes_Conectados-Ataques',compata1,ata1,compata2,ata2,None,\"Aleatoria\",\"Escala Libre\",\"Ataques\",\"Componentes Conectados\")"
   ]
  },
  {
   "cell_type": "code",
   "execution_count": 128,
   "metadata": {},
   "outputs": [],
   "source": [
    "#graficas('Proporcion Componente Gigante-Ataques',propata1,ata1,propata2,ata2,None,\"Aleatoria\",\"Escala Libre\",\"Ataques\",\"Proporcion\")"
   ]
  },
  {
   "cell_type": "code",
   "execution_count": null,
   "metadata": {},
   "outputs": [],
   "source": []
  }
 ],
 "metadata": {
  "kernelspec": {
   "display_name": "Python 3",
   "language": "python",
   "name": "python3"
  },
  "language_info": {
   "codemirror_mode": {
    "name": "ipython",
    "version": 3
   },
   "file_extension": ".py",
   "mimetype": "text/x-python",
   "name": "python",
   "nbconvert_exporter": "python",
   "pygments_lexer": "ipython3",
   "version": "3.8.3"
  }
 },
 "nbformat": 4,
 "nbformat_minor": 4
}
