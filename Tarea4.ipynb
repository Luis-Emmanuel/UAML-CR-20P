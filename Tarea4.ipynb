{
 "cells": [
  {
   "cell_type": "markdown",
   "metadata": {},
   "source": [
    "FUNCIONES DE LISTAS CAPITULO 5.1"
   ]
  },
  {
   "cell_type": "code",
   "execution_count": 19,
   "metadata": {},
   "outputs": [
    {
     "name": "stdout",
     "output_type": "stream",
     "text": [
      "['hola']\n"
     ]
    }
   ],
   "source": [
    "lst_ejem = list()\n",
    "\n",
    "#Función append\n",
    "lst_ejem.append('hola')\n",
    "print(lst_ejem)"
   ]
  },
  {
   "cell_type": "code",
   "execution_count": 20,
   "metadata": {},
   "outputs": [
    {
     "name": "stdout",
     "output_type": "stream",
     "text": [
      "['hola', 'h', 'o', 'l', 'a']\n"
     ]
    }
   ],
   "source": [
    "#Función extend\n",
    "lst_ejem.extend('hola')\n",
    "print(lst_ejem)"
   ]
  },
  {
   "cell_type": "code",
   "execution_count": 21,
   "metadata": {},
   "outputs": [
    {
     "name": "stdout",
     "output_type": "stream",
     "text": [
      "['hola', 'h', 'o', 'nueva', 'l', 'a']\n"
     ]
    }
   ],
   "source": [
    "#Función insert\n",
    "lst_ejem.insert(3,'nueva')\n",
    "print(lst_ejem)"
   ]
  },
  {
   "cell_type": "code",
   "execution_count": 22,
   "metadata": {},
   "outputs": [
    {
     "name": "stdout",
     "output_type": "stream",
     "text": [
      "['hola', 'o', 'nueva', 'l', 'a']\n"
     ]
    }
   ],
   "source": [
    "#Función remove\n",
    "lst_ejem.remove('h')\n",
    "print(lst_ejem)\n",
    "#Si se remueve un elemento inexistente mandara error"
   ]
  },
  {
   "cell_type": "code",
   "execution_count": 23,
   "metadata": {},
   "outputs": [
    {
     "name": "stdout",
     "output_type": "stream",
     "text": [
      "['hola', 'o', 'l', 'a']\n"
     ]
    }
   ],
   "source": [
    "#Función pop\n",
    "lst_ejem.pop(2)\n",
    "print(lst_ejem)\n",
    "#Si se da una posición invalida mandara error"
   ]
  },
  {
   "cell_type": "code",
   "execution_count": 24,
   "metadata": {},
   "outputs": [
    {
     "name": "stdout",
     "output_type": "stream",
     "text": [
      "[]\n"
     ]
    }
   ],
   "source": [
    "#Función clear\n",
    "lst_ejem.clear()\n",
    "print(lst_ejem)"
   ]
  },
  {
   "cell_type": "code",
   "execution_count": 25,
   "metadata": {},
   "outputs": [
    {
     "name": "stdout",
     "output_type": "stream",
     "text": [
      "4\n"
     ]
    }
   ],
   "source": [
    "#Función index\n",
    "lst_ejem = [2.3,1.5,3,7,8,1,10]\n",
    "print(lst_ejem.index(8))"
   ]
  },
  {
   "cell_type": "code",
   "execution_count": 26,
   "metadata": {},
   "outputs": [
    {
     "name": "stdout",
     "output_type": "stream",
     "text": [
      "6\n"
     ]
    }
   ],
   "source": [
    "#Función count\n",
    "lst_ejem = [1,2,3,4,5,1,1,1,7,8,9,1,1]\n",
    "print(lst_ejem.count(1))"
   ]
  },
  {
   "cell_type": "code",
   "execution_count": 28,
   "metadata": {},
   "outputs": [
    {
     "name": "stdout",
     "output_type": "stream",
     "text": [
      "[1, 1, 1, 1, 1, 1, 2, 3, 4, 5, 7, 8, 9]\n"
     ]
    }
   ],
   "source": [
    "#Función sort\n",
    "lst_ejem.sort()\n",
    "print(lst_ejem)"
   ]
  },
  {
   "cell_type": "code",
   "execution_count": 29,
   "metadata": {},
   "outputs": [
    {
     "name": "stdout",
     "output_type": "stream",
     "text": [
      "[9, 8, 7, 5, 4, 3, 2, 1, 1, 1, 1, 1, 1]\n"
     ]
    }
   ],
   "source": [
    "#Función reverse\n",
    "lst_ejem.reverse()\n",
    "print(lst_ejem)"
   ]
  },
  {
   "cell_type": "code",
   "execution_count": 31,
   "metadata": {},
   "outputs": [
    {
     "name": "stdout",
     "output_type": "stream",
     "text": [
      "[9, 8, 7, 5, 4, 3, 2, 1, 1, 1, 1, 1, 1]\n",
      "9\n",
      "10\n"
     ]
    }
   ],
   "source": [
    "#Función copy\n",
    "lst_ejem2 = lst_ejem.copy()\n",
    "print(lst_ejem2)\n",
    "\n",
    "lst_ejem2[0] = 10\n",
    "\n",
    "print(lst_ejem[0])\n",
    "print(lst_ejem2[0])"
   ]
  },
  {
   "cell_type": "markdown",
   "metadata": {},
   "source": [
    "FUNCIONES DE CONJUNTOS 5.4"
   ]
  },
  {
   "cell_type": "code",
   "execution_count": 40,
   "metadata": {},
   "outputs": [
    {
     "name": "stdout",
     "output_type": "stream",
     "text": [
      "{'adri', 'erick', 'luis', 'moni', 'diana', 'liz', 'emmanuel', 'jackelin'}\n",
      "True\n",
      "False\n",
      "{'c', 'l', 'o', 'r', 'i', 'm', 'e', 'g', 'a', 'u'}\n",
      "{'c', 'o', 'r', 'i', 'e', 'g'}\n",
      "{'c', 'l', 'o', 'n', 'r', 'i', 'm', 'e', 'g', 'a', 'u'}\n",
      "{'l', 'a', 'm', 'u'}\n",
      "{'c', 'o', 'n', 'r', 'e', 'g', 'i'}\n"
     ]
    }
   ],
   "source": [
    "alumnos = {'luis','adri','moni','liz','erick','emmanuel','diana','jackelin'}\n",
    "print(alumnos)\n",
    "\n",
    "print('adri' in alumnos)\n",
    "print('manuel' in alumnos)\n",
    "\n",
    "a = set('murcielago')\n",
    "b = set('mulan')\n",
    "print(a)\n",
    "print(a-b)\n",
    "print(a|b)\n",
    "print(a&b)\n",
    "print(a^b)"
   ]
  },
  {
   "cell_type": "markdown",
   "metadata": {},
   "source": [
    "FUNCIONES DE DICCIONARIOS 5.5"
   ]
  },
  {
   "cell_type": "code",
   "execution_count": 51,
   "metadata": {},
   "outputs": [
    {
     "name": "stdout",
     "output_type": "stream",
     "text": [
      "{'luis': 8, 'adri': 9, 'bianca': 8, 'liz': 10, 'ricardo': 10}\n",
      "8\n",
      "{'luis': 8, 'adri': 9, 'bianca': 8, 'liz': 10}\n",
      "['luis', 'adri', 'bianca', 'liz']\n",
      "['adri', 'bianca', 'liz', 'luis']\n",
      "True\n",
      "False\n"
     ]
    }
   ],
   "source": [
    "calif = {'luis':8,'adri':9,'bianca':8,'liz':10,'ricardo':10}\n",
    "\n",
    "print(calif)\n",
    "print(calif['luis'])\n",
    "\n",
    "del calif['ricardo']\n",
    "print(calif)\n",
    "\n",
    "newcalif = list(calif)\n",
    "print(newcalif)\n",
    "\n",
    "print(sorted(newcalif))\n",
    "\n",
    "print('bianca' in calif)\n",
    "print('lucas' in calif)"
   ]
  },
  {
   "cell_type": "code",
   "execution_count": null,
   "metadata": {},
   "outputs": [],
   "source": []
  }
 ],
 "metadata": {
  "kernelspec": {
   "display_name": "Python 3",
   "language": "python",
   "name": "python3"
  },
  "language_info": {
   "codemirror_mode": {
    "name": "ipython",
    "version": 3
   },
   "file_extension": ".py",
   "mimetype": "text/x-python",
   "name": "python",
   "nbconvert_exporter": "python",
   "pygments_lexer": "ipython3",
   "version": "3.8.3"
  }
 },
 "nbformat": 4,
 "nbformat_minor": 4
}
