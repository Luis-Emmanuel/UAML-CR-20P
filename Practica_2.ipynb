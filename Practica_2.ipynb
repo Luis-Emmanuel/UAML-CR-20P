{
 "cells": [
  {
   "cell_type": "code",
   "execution_count": 12,
   "metadata": {},
   "outputs": [],
   "source": [
    "def grafica_aleatoria(n,p):\n",
    "    i = 1 #contador\n",
    "    j = 1 #contador\n",
    "    enlaces_ran = list() #definimos una lista que tendra los enlaces formados\n",
    "\n",
    "    while i <= n: #bucle while que se encargara de ir realizando los enlaces\n",
    "        lst_temp = list([i,j]) #definimos una lista temporal con los valores de i y j como candidatos a un enlace\n",
    "        a = random.uniform(0,1) #definimos un random de numeros de entre 0 y 1\n",
    "    \n",
    "        if(i == j): #hacemos este if para evitar enlaces del tipo [1,1], [2,2], etc.\n",
    "            j = j+1 #si eso pasa a j se le aumenta el valor en uno\n",
    "        else: #de no ser asi\n",
    "            if (a < p): #vemos si es posible el enlace revisando que a sea menor que p\n",
    "                enlaces_ran.append(lst_temp) #de ser asi se agrega el par de nodos a la lista de enlaces\n",
    "                j = 1+j #se aumenta el valor de j en uno por ejemplo si se forma el enlace [1,2] ahora veremos si se forma [1,3]\n",
    "            else:\n",
    "                j = 1+j #de no formarse el enlace aumentamos en uno a j\n",
    "        if j==n: #cuando j alcance el valor maximo de nodos, ejemplo el usuario designo 5 nodos, j al alcanzar dicho valor\n",
    "            j = 1 #retomara el valor de 1\n",
    "            i = i+1 #y el valor de i aumentara en 1, asi hasta que i tenga el valor de los nodos dados por el usuario y terminar el bucle.\n",
    "    red = arma_red(enlaces_ran)\n",
    "    return(red)"
   ]
  },
  {
   "cell_type": "code",
   "execution_count": 13,
   "metadata": {},
   "outputs": [],
   "source": [
    "def crea_mundo_pequeno(n,p):\n",
    "    V = list(range(n)) #lista con los nodos del 0 a n-1\n",
    "    \n",
    "    red = list()\n",
    "    \n",
    "    for i in V:\n",
    "        if(i+1 > n-1): #esto es por si estamos en el ultimo nodo\n",
    "            red.append([i,n-n])\n",
    "        else:\n",
    "            red.append([i,i+1])\n",
    "        if(i+2 > n-1): #esto es por si estamos en el ultimo o penultimo nodo\n",
    "            red.append([i,(i-1)])\n",
    "        else:\n",
    "            red.append([i,i+2])\n",
    "        if(i-1 < 0): #esto es por si estamos en el primer nodo\n",
    "            red.append([i,n-1])\n",
    "        else:\n",
    "            red.append([i,i-1])\n",
    "        if(i-2 < 0): #esto es por si estamos en el segundo nodo\n",
    "            red.append([i,n-2])\n",
    "        else:\n",
    "            red.append([i,i-2])\n",
    "    ##################################################################################################\n",
    "    for i in red: #recorremos la red\n",
    "        pos_i = i[0] #pos_i tendra el valor correspondiente a i[pos_i,pos_j]\n",
    "        pos_j = i[1] #pos_j tendra el valor correspondiente a i[pos_i,pos_j]\n",
    "        a = random.uniform(0,1) #a sera un valor random entre 0 y 1\n",
    "        k = random.randrange(n-1) #k sera un valor random entre los nodos de la red\n",
    "    \n",
    "        if (k == pos_j): #si k es igual a pos_j buscamos un valor nuevo\n",
    "            k = random.randrange(n-1)\n",
    "        else:\n",
    "            if(k == pos_i): #si k es igual a pos_i buscamos un valor nuevo\n",
    "                k = random.randrange(n-1)\n",
    "            else:\n",
    "                if (a < p): #si a es menor a la probabilidad de enlace cambiamos el valor que hay en i[pos_j] por el de k\n",
    "                    i[1] = k\n",
    "    red2 = arma_red(red)\n",
    "    return(red2)"
   ]
  },
  {
   "cell_type": "markdown",
   "metadata": {},
   "source": [
    "Decidi colocar en una función a parte el armado de la red en base a los enlaces generados ya que es la misma funcion\n",
    "para ambos metodos."
   ]
  },
  {
   "cell_type": "code",
   "execution_count": 14,
   "metadata": {},
   "outputs": [],
   "source": [
    "def arma_red(enlaces):\n",
    "    red = {} #diccionario que representara la red final\n",
    "    i = 0 #representara a la posición i : [i,j]\n",
    "    j = 1 #representara a la posición j : [i,j]\n",
    "    cont = 0  #contador para el set\n",
    "    temp = set() #set temporal\n",
    "\n",
    "    for valor in enlaces: #recorreremos la lista de enlaces creada\n",
    "        if valor[i] == cont: #esto lo hacemos para cerciorarnos que en el diccionario tenga en sus llaves los valores correspondientes\n",
    "            temp.add(valor[j]) #en un set temporal (set para evitar valores repetidos) agregamos lo que equivaldra al valor de la llave\n",
    "        else:\n",
    "            cont = cont+1 #si la llave es \"n\" pero en la lista dicho valor cambia a \"n+1\" valor, hacemos que la llave tenga valor de \"n+1\"\n",
    "            temp = set() #reiniciamos el set temporal\n",
    "            temp.add(valor[j]) #al hacer lo anterior puede generar el problema que no se agregue el primer valor de la nueva llave\n",
    "            #por ejemplo si pasamos de [0,9] a [1,2],[1,3] no se guardara en el set el 2 asi que tenemos que hacer la adicion en \n",
    "            #esta parte del bucle\n",
    "        \n",
    "        temp2 = list(temp)\n",
    "        up = {cont:temp2} #una vez tenemos todos los valores de la llave los agregamos al diccionario\n",
    "        red.update(up)\n",
    "    return(red) #retornamos la red resultante"
   ]
  },
  {
   "cell_type": "markdown",
   "metadata": {},
   "source": [
    "Debido a que la función \"densidad\" fue creada antes que la función \"arma_red\" tiene la sigiente forma:"
   ]
  },
  {
   "cell_type": "code",
   "execution_count": 15,
   "metadata": {},
   "outputs": [],
   "source": [
    "def densidad(red):\n",
    "    enlaces = list() #Creamos una lista para los enlaces de la red\n",
    "    i = 0 #contador\n",
    "    contador = 0 #contador\n",
    "    \n",
    "    valores = list(red.values()) #llenamos una lista con los valores del diccionario de la red\n",
    "    \n",
    "    for cont in valores: #bucle que recorre la lista valores\n",
    "        lst_temp = list(cont) #lst_temp tendra temporalmente los valores de cont\n",
    "        i = i+1 \n",
    "        for cont2 in lst_temp: #creamos un segundo bucle que recorrera lst_temp\n",
    "            enlaces.append([i,cont2]) #agregamos los valores a la lista enlaces para que tengan la forma [1,2],[1,3]...[n,m]\n",
    "    \n",
    "    mg = len(enlaces)/2 #calculamos los enlaces presentes en la red\n",
    "    mkn = (len(red)*(len(red)-1))/2 #claculamos los enlaces maximos en la red\n",
    "   \n",
    "    densidad = mg/mkn #calculamos la densidad de la red\n",
    "    \n",
    "    print('La densidad de la red es: ',densidad) #imprimimos el resultado"
   ]
  },
  {
   "cell_type": "code",
   "execution_count": 16,
   "metadata": {},
   "outputs": [],
   "source": [
    "def calcula_grados_entrada(d_grafica):\n",
    "    grado_e = {}\n",
    "\n",
    "    for i in d_grafica:\n",
    "        up = {i:len(d_grafica[i])}   \n",
    "        grado_e.update(up)\n",
    "    return(grado_e)"
   ]
  },
  {
   "cell_type": "code",
   "execution_count": 17,
   "metadata": {},
   "outputs": [],
   "source": [
    "def dist_grados_entrada(grado_e):\n",
    "    distr = {}\n",
    "    lst_temp2 = list()\n",
    "\n",
    "    for values in grado_e.values():      \n",
    "        lst_temp2.append(values)\n",
    "        lst_temp2.sort() \n",
    "    \n",
    "    for i in lst_temp2: \n",
    "        llave = lst_temp2.count(i) \n",
    "        up2 = {i:llave} #imprimira los grandos de entrada como {grado de entrada:cantidad de nodos}\n",
    "        distr.update(up2)\n",
    "    print(distr)\n",
    "    return(distr)"
   ]
  },
  {
   "cell_type": "code",
   "execution_count": 18,
   "metadata": {},
   "outputs": [],
   "source": [
    "#revisar antes de enviar\n",
    "def distr_normalizada(red):\n",
    "    distr_norm = {}\n",
    "    llave = 1\n",
    "    valor = len(red)\n",
    "    up3 = {llave:valor}\n",
    "    distr_norm.update(up3)\n",
    "    print(distr_norm)\n",
    "    return(distr_norm)"
   ]
  },
  {
   "cell_type": "code",
   "execution_count": 19,
   "metadata": {},
   "outputs": [],
   "source": [
    "def grafica_distr(distr):\n",
    "    x = list()\n",
    "    y = list()\n",
    "\n",
    "    for i in distr:\n",
    "        x.append(distr[i])\n",
    "        y.append(i)\n",
    "    plt.plot(x,y)\n",
    "    plt.title('Distribución de Grados de Entrada')\n",
    "    plt.xlabel('grado nodal')\n",
    "    plt.ylabel('numero de nodos')\n",
    "    plt.show()"
   ]
  },
  {
   "cell_type": "code",
   "execution_count": 20,
   "metadata": {},
   "outputs": [],
   "source": [
    "def grafica_distr_norm(distr_norm):\n",
    "    x2 = list()\n",
    "    y2 = list()\n",
    "\n",
    "    suma = sum(distr_norm.values())  \n",
    "\n",
    "    for i in distr_norm:\n",
    "        x2.append(distr_norm[i]) \n",
    "        valor = distr_norm[i]/suma \n",
    "        y2.append(valor)\n",
    "    plt.plot(x2,y2)\n",
    "    plt.title('Distribución Normalizada de Grados de Entrada')\n",
    "    plt.xlabel('grado nodal')\n",
    "    plt.ylabel('proporción de nodos')\n",
    "    plt.show()"
   ]
  },
  {
   "cell_type": "code",
   "execution_count": 22,
   "metadata": {},
   "outputs": [
    {
     "data": {
      "text/plain": [
       "\"\\nn = int(input('Numero de nodos: ')) #ingresamos el numero de nodos\\np = float(input('Ingresa una probabilidad de enlace: ')) #ingresamos la probabilidad de enlace\\n\\n##################################################################################\\n#creación de las redes\\n##################################################################################\\nred1 = grafica_aleatoria(n,p)\\nprint('La red aleatoria resultante es: \\n',red1)\\nred2 = crea_mundo_pequeno(n,p)\\nprint('\\nEl mundo pequeno resultante es: \\n',red2)\\n##################################################################################\\n#Densidades\\n##################################################################################\\nprint('\\nPara grafica aleatoria:')\\ndensidad(red1)\\nprint('Para mundo pequeno:')\\ndensidad(red2)\\n##################################################################################\\n#distribuciones\\n##################################################################################\\nprint('\\nDistribucion grados de entrada de la grafica aleatoria:')\\ngrado1_e = calcula_grados_entrada(red1)\\ndistr1 = dist_grados_entrada(grado1_e)\\nprint('Distribucion grados de entrada de mundo pequeno:')\\ngrado2_e = calcula_grados_entrada(red2)\\ndistr2 = dist_grados_entrada(grado2_e)\\n##################################################################################\\nprint('\\nDistribucion normalizada de grafica aleatoria:')\\ndistr_norm1 = distr_normalizada(distr1)\\nprint('Distribucion normalizada de mundo pequeno:')\\ndistr_norm2 = distr_normalizada(distr2)\\n##################################################################################\\n#Graficas de distribuciones\\n##################################################################################\\nprint('\\nPara grafica aleatoria:')\\ngrafica_distr(distr1)\\n\""
      ]
     },
     "execution_count": 22,
     "metadata": {},
     "output_type": "execute_result"
    }
   ],
   "source": [
    "%matplotlib notebook\n",
    "import matplotlib.pyplot as plt\n",
    "import random\n",
    "'''\n",
    "n = int(input('Numero de nodos: ')) #ingresamos el numero de nodos\n",
    "p = float(input('Ingresa una probabilidad de enlace: ')) #ingresamos la probabilidad de enlace\n",
    "\n",
    "##################################################################################\n",
    "#creación de las redes\n",
    "##################################################################################\n",
    "red1 = grafica_aleatoria(n,p)\n",
    "print('La red aleatoria resultante es: \\n',red1)\n",
    "red2 = crea_mundo_pequeno(n,p)\n",
    "print('\\nEl mundo pequeno resultante es: \\n',red2)\n",
    "##################################################################################\n",
    "#Densidades\n",
    "##################################################################################\n",
    "print('\\nPara grafica aleatoria:')\n",
    "densidad(red1)\n",
    "print('Para mundo pequeno:')\n",
    "densidad(red2)\n",
    "##################################################################################\n",
    "#distribuciones\n",
    "##################################################################################\n",
    "print('\\nDistribucion grados de entrada de la grafica aleatoria:')\n",
    "grado1_e = calcula_grados_entrada(red1)\n",
    "distr1 = dist_grados_entrada(grado1_e)\n",
    "print('Distribucion grados de entrada de mundo pequeno:')\n",
    "grado2_e = calcula_grados_entrada(red2)\n",
    "distr2 = dist_grados_entrada(grado2_e)\n",
    "##################################################################################\n",
    "print('\\nDistribucion normalizada de grafica aleatoria:')\n",
    "distr_norm1 = distr_normalizada(distr1)\n",
    "print('Distribucion normalizada de mundo pequeno:')\n",
    "distr_norm2 = distr_normalizada(distr2)\n",
    "##################################################################################\n",
    "#Graficas de distribuciones\n",
    "##################################################################################\n",
    "print('\\nPara grafica aleatoria:')\n",
    "grafica_distr(distr1)\n",
    "'''"
   ]
  },
  {
   "cell_type": "code",
   "execution_count": 77,
   "metadata": {},
   "outputs": [
    {
     "name": "stdout",
     "output_type": "stream",
     "text": [
      "Para mundo pequeno:\n"
     ]
    }
   ],
   "source": [
    "print('Para mundo pequeno:')\n",
    "grafica_distr(distr2)"
   ]
  },
  {
   "cell_type": "code",
   "execution_count": 78,
   "metadata": {},
   "outputs": [
    {
     "name": "stdout",
     "output_type": "stream",
     "text": [
      "Segunda para grafica aleatoria:\n"
     ]
    }
   ],
   "source": [
    "print('Segunda para grafica aleatoria:')\n",
    "grafica_distr_norm(distr_norm1)"
   ]
  },
  {
   "cell_type": "code",
   "execution_count": 79,
   "metadata": {},
   "outputs": [
    {
     "name": "stdout",
     "output_type": "stream",
     "text": [
      "Segunda para mundo pequeno:\n"
     ]
    }
   ],
   "source": [
    "print('Segunda para mundo pequeno:')\n",
    "grafica_distr_norm(distr_norm2)"
   ]
  },
  {
   "cell_type": "code",
   "execution_count": null,
   "metadata": {},
   "outputs": [],
   "source": []
  }
 ],
 "metadata": {
  "kernelspec": {
   "display_name": "Python 3",
   "language": "python",
   "name": "python3"
  },
  "language_info": {
   "codemirror_mode": {
    "name": "ipython",
    "version": 3
   },
   "file_extension": ".py",
   "mimetype": "text/x-python",
   "name": "python",
   "nbconvert_exporter": "python",
   "pygments_lexer": "ipython3",
   "version": "3.8.3"
  }
 },
 "nbformat": 4,
 "nbformat_minor": 4
}
